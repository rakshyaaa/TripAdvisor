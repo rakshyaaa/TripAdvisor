{
 "cells": [
  {
   "cell_type": "code",
   "execution_count": 2,
   "id": "7dca3e2c",
   "metadata": {},
   "outputs": [
    {
     "name": "stdout",
     "output_type": "stream",
     "text": [
      "c:\\Rakshya\\Trip Advisor\\new\\wealth_engine_chroma\n"
     ]
    }
   ],
   "source": [
    "import os\n",
    "print(os.path.abspath(\"./wealth_engine_chroma\"))"
   ]
  },
  {
   "cell_type": "code",
   "execution_count": 3,
   "id": "a338a50f",
   "metadata": {},
   "outputs": [
    {
     "name": "stdout",
     "output_type": "stream",
     "text": [
      "Chroma row count: 99\n",
      "{'ids': [['560', '40672']], 'embeddings': None, 'documents': [['Mr. Richard G. Zepernick, Jr. — Lafayette, LA, US. Segment: Prime Prospects | A-High Giving Capacity. Tier: Tier 1 - Principal. Board membership: . Donor quadrant: Prime Prospects. Capacity band: A-High Giving Capacity. Propensity rating: Excellent. Giving capacity rating: 19.', 'Mr. Sherman A. Scott — Lafayette, LA, US. Segment: Prime Prospects | A-High Giving Capacity. Tier: Tier 1 - Principal. Board membership: . Donor quadrant: Prime Prospects. Capacity band: A-High Giving Capacity. Propensity rating: Excellent. Giving capacity rating: 19.']], 'uris': None, 'included': ['documents', 'metadatas', 'distances'], 'data': None, 'metadatas': [[{'donor_quadrant': 'Prime Prospects', 'town': 'Lafayette, LA   70508-6773', 'segment_decile': 10.0, 'zip5': '70508', 'givingCapacityRange': '$1MM-$5MM', 'inclinationAffiliation': 'Older with Significant Political Support', 'netWorthRange': '$25MM-$50MM', 'normalized_networth_score': 75.0, 'influenceRating': 0.0, 'normalized_income_score': 80.0, 'segment': 'Prime Prospects | A-High Giving Capacity', 'givingCapacity_score': 95.0, 'givingCapacityRating': 19.0, 'propensityToGiveScore1': 1.0, 'county': 'LA055', 'capacity_band': 'A-High Giving Capacity', 'city': 'Lafayette', 'state_desc': 'Louisiana', 'assetRange': '$25MM-$50MM', 'nation': 'US', 'propensity_score': 100.0, 'wealth_score': 76.0, 'county_desc': 'Lafayette Parish, LA', 'state': 'LA', 'primary_prospect_manager_list': 'Trevor Starcher', 'prospect_tier': 'Tier 1 - Principal', 'netWorthRating': 9.0, 'incomeRating': 4.0, 'boardMembership': '', 'primary_id': '560', 'lifetime_giving': 289315.0, 'lifetime_giving_label': 'Donor', 'overall_decile': 10.0, 'person_name': 'Mr. Richard G. Zepernick, Jr.', 'assetRating': 9.0, 'prospect_potential_score': 87.0, 'WEPS': 87.0, 'incomeRange': '$250K-$500K', 'normalized_asset_score': 75.0, 'nation_desc': 'United States', 'zip': '70508-6773'}, {'influence_score': 100.0, 'incomeRating': 4.0, 'donor_quadrant': 'Prime Prospects', 'town': 'Lafayette, LA   70503-3666', 'inclinationAffiliation': 'Significant Political Support', 'person_name': 'Mr. Sherman A. Scott', 'city': 'Lafayette', 'prospect_tier': 'Tier 1 - Principal', 'lifetime_giving_label': 'Donor', 'influenceRating': 1.0, 'lifetime_giving': 357050.0, 'state': 'LA', 'wealth_score': 76.0, 'capacity_band': 'A-High Giving Capacity', 'propensityToGiveScore1': 1.0, 'zip': '70503-3666', 'nation': 'US', 'county': 'LA055', 'incomeRange': '$250K-$500K', 'nation_desc': 'United States', 'givingCapacityRating': 19.0, 'boardMembership': '', 'prospect_potential_score': 87.0, 'normalized_networth_score': 75.0, 'primary_id': '40672', 'state_desc': 'Louisiana', 'zip5': '70503', 'givingCapacityRange': '$1MM-$5MM', 'WEPS': 87.0, 'assetRange': '$25MM-$50MM', 'givingCapacity_score': 95.0, 'normalized_income_score': 80.0, 'primary_prospect_manager_list': 'Rebecca Doucet', 'assetRating': 9.0, 'netWorthRating': 9.0, 'segment': 'Prime Prospects | A-High Giving Capacity', 'segment_decile': 10.0, 'netWorthRange': '$25MM-$50MM', 'normalized_asset_score': 75.0, 'county_desc': 'Lafayette Parish, LA', 'propensity_score': 100.0, 'overall_decile': 10.0}]], 'distances': [[1.2229100465774536, 1.242737054824829]]}\n"
     ]
    }
   ],
   "source": [
    "from chromadb import PersistentClient\n",
    "\n",
    "CHROMA_PATH = r\"C:\\Rakshya\\Trip Advisor\\wealth_engine_chroma\"\n",
    "COLLECTION = \"wealth_engine_prospects_scores\"\n",
    "\n",
    "\n",
    "client = PersistentClient(path=CHROMA_PATH)\n",
    "col = client.get_or_create_collection(\n",
    "    name=COLLECTION)\n",
    "\n",
    "print(\"Chroma row count:\", col.count())\n",
    "\n",
    "results2 = col.query(\n",
    "    query_texts=[\"Top 3 Lafayette prospects with WEPS between 85 and 90\"],\n",
    "    n_results=5,\n",
    "    where={\n",
    "        \"$and\": [\n",
    "            {\"city\": \"Lafayette\"},\n",
    "            {\"WEPS\": {\"$gte\": 85.0}},\n",
    "            {\"WEPS\": {\"$lte\": 90.0}},\n",
    "        ]\n",
    "    },\n",
    "    include=[\"documents\", \"metadatas\", \"distances\"]\n",
    ")\n",
    "\n",
    "print(results2)"
   ]
  },
  {
   "cell_type": "code",
   "execution_count": 4,
   "id": "202e3783",
   "metadata": {},
   "outputs": [
    {
     "name": "stdout",
     "output_type": "stream",
     "text": [
      "count: 99\n",
      "{'ids': ['57166', '56690', '18718', '52851', '62846'], 'embeddings': None, 'documents': None, 'uris': None, 'included': ['metadatas'], 'data': None, 'metadatas': [{'primary_id': '57166', 'lifetime_giving_label': 'Donor', 'assetRange': '$100K-$500K', 'incomeRating': 2.0, 'zip': '44144-1613', 'givingCapacity_score': 80.0, 'zip5': '44144', 'overall_decile': 2.0, 'segment': 'Loyal Supporters | A-High Giving Capacity', 'nation': 'US', 'normalized_asset_score': 33.0, 'propensityToGiveScore1': 1.0, 'primary_prospect_manager_list': 'Katherine Burlette', 'propensity_score': 100.0, 'person_name': 'Ms. Linda Anne Rabel', 'city': 'Cleveland', 'netWorthRange': '$100K-$500K', 'prospect_potential_score': 63.0, 'assetRating': 4.0, 'givingCapacityRange': '$200K-$300K', 'incomeRange': '$50K-$100K', 'donor_quadrant': 'Loyal Supporters', 'netWorthRating': 4.0, 'lifetime_giving': 250000.0, 'county_desc': 'Cuyahoga, OH', 'town': 'Cleveland, OH   44144-1613', 'segment_decile': 1.0, 'nation_desc': 'United States', 'givingCapacityRating': 16.0, 'boardMembership': '', 'inclinationAffiliation': 'Older with no Political Support', 'influenceRating': 0.0, 'state': 'OH', 'prospect_tier': 'Tier 5 - Low Priority', 'state_desc': 'Ohio', 'wealth_score': 34.0, 'normalized_networth_score': 33.0, 'WEPS': 63.0, 'capacity_band': 'A-High Giving Capacity', 'county': 'OH035', 'normalized_income_score': 40.0}, {'prospect_tier': 'Tier 5 - Low Priority', 'incomeRating': 1.0, 'normalized_networth_score': 33.0, 'WEPS': 64.0, 'donor_quadrant': 'Loyal Supporters', 'netWorthRange': '$100K-$500K', 'influenceRating': 0.0, 'primary_id': '56690', 'state': 'LA', 'county_desc': 'St. Tammany Parish, LA', 'lifetime_giving_label': 'Donor', 'assetRating': 4.0, 'givingCapacity_score': 95.0, 'town': 'Mandeville, LA   70448-4630', 'incomeRange': '$1-$50K', 'netWorthRating': 4.0, 'zip5': '70448', 'capacity_band': 'A-High Giving Capacity', 'primary_prospect_manager_list': 'Christina Lake', 'overall_decile': 2.0, 'prospect_potential_score': 64.0, 'propensity_score': 100.0, 'inclinationAffiliation': 'Older with no Political Support', 'person_name': 'Mr. Theodore H. Ralph, Jr., PE', 'givingCapacityRating': 19.0, 'zip': '70448-4630', 'assetRange': '$100K-$500K', 'lifetime_giving': 1002497.5, 'county': 'LA103', 'normalized_asset_score': 33.0, 'wealth_score': 30.0, 'state_desc': 'Louisiana', 'givingCapacityRange': '$1MM-$5MM', 'propensityToGiveScore1': 1.0, 'boardMembership': '', 'city': 'Mandeville', 'nation': 'US', 'segment': 'Loyal Supporters | A-High Giving Capacity', 'segment_decile': 1.0, 'normalized_income_score': 20.0, 'nation_desc': 'United States'}, {'zip5': '70501', 'wealth_score': 38.0, 'town': 'Lafayette, LA   70501-6510', 'givingCapacityRating': 17.0, 'state': 'LA', 'county': 'LA055', 'nation_desc': 'United States', 'netWorthRange': '$100K-$500K', 'prospect_potential_score': 66.0, 'inclinationAffiliation': 'Significant Political Support', 'city': 'Lafayette', 'lifetime_giving_label': 'Donor', 'prospect_tier': 'Tier 5 - Low Priority', 'capacity_band': 'A-High Giving Capacity', 'zip': '70501-6510', 'segment': 'Loyal Supporters | A-High Giving Capacity', 'influenceRating': 2.0, 'segment_decile': 2.0, 'assetRating': 4.0, 'boardMembership': '', 'nation': 'US', 'primary_prospect_manager_list': 'Trevor Starcher', 'influence_score': 50.0, 'state_desc': 'Louisiana', 'WEPS': 66.0, 'assetRange': '$100K-$500K', 'donor_quadrant': 'Loyal Supporters', 'incomeRange': '$100K-$250K', 'givingCapacity_score': 85.0, 'normalized_income_score': 60.0, 'primary_id': '18718', 'overall_decile': 3.0, 'propensity_score': 100.0, 'county_desc': 'Lafayette Parish, LA', 'netWorthRating': 4.0, 'normalized_networth_score': 33.0, 'normalized_asset_score': 33.0, 'lifetime_giving': 291652.48, 'person_name': 'Mr. Robert L. Trahan', 'givingCapacityRange': '$300K-$500K', 'incomeRating': 3.0, 'propensityToGiveScore1': 1.0}, {'lifetime_giving': 190582.15, 'state': 'LA', 'incomeRating': 3.0, 'propensity_score': 100.0, 'county': 'LA055', 'WEPS': 67.0, 'prospect_potential_score': 67.0, 'lifetime_giving_label': 'Donor', 'person_name': 'Mr. Joshua P. Richard', 'prospect_tier': 'Tier 5 - Low Priority', 'wealth_score': 41.0, 'primary_id': '52851', 'boardMembership': '', 'givingCapacityRange': '$200K-$300K', 'normalized_asset_score': 42.0, 'netWorthRange': '$100K-$500K', 'town': 'Lafayette, LA   70508-8352', 'zip5': '70508', 'givingCapacityRating': 16.0, 'incomeRange': '$100K-$250K', 'propensityToGiveScore1': 1.0, 'normalized_networth_score': 33.0, 'segment': 'Loyal Supporters | A-High Giving Capacity', 'inclinationAffiliation': 'No Political Support', 'givingCapacity_score': 80.0, 'zip': '70508-8352', 'assetRange': '$500K-$1MM', 'overall_decile': 3.0, 'assetRating': 5.0, 'nation_desc': 'United States', 'city': 'Lafayette', 'capacity_band': 'A-High Giving Capacity', 'county_desc': 'Lafayette Parish, LA', 'normalized_income_score': 60.0, 'netWorthRating': 4.0, 'influenceRating': 0.0, 'segment_decile': 2.0, 'state_desc': 'Louisiana', 'nation': 'US', 'donor_quadrant': 'Loyal Supporters', 'primary_prospect_manager_list': 'David Schexnayder'}, {'assetRange': '$500K-$1MM', 'propensityToGiveScore1': 1.0, 'incomeRange': '$50K-$100K', 'state_desc': 'Texas', 'inclinationAffiliation': 'Older with no Political Support', 'normalized_income_score': 40.0, 'prospect_tier': 'Tier 4 - General', 'boardMembership': '', 'incomeRating': 2.0, 'assetRating': 5.0, 'netWorthRating': 5.0, 'nation_desc': 'United States', 'town': 'Houston, TX   77065-3300', 'zip5': '77065', 'lifetime_giving_label': 'Lost Donor', 'netWorthRange': '$500K-$1MM', 'normalized_networth_score': 42.0, 'lifetime_giving': 500000.0, 'WEPS': 69.0, 'person_name': 'Mr. Timothy L. Pickens', 'influenceRating': 0.0, 'primary_prospect_manager_list': 'Katherine Burlette', 'wealth_score': 42.0, 'county': 'TX201', 'prospect_potential_score': 69.0, 'givingCapacityRating': 18.0, 'segment': 'Loyal Supporters | A-High Giving Capacity', 'primary_id': '62846', 'propensity_score': 100.0, 'state': 'TX', 'segment_decile': 3.0, 'normalized_asset_score': 42.0, 'givingCapacity_score': 90.0, 'zip': '77065-3300', 'nation': 'US', 'county_desc': 'Harris, TX', 'city': 'Houston', 'givingCapacityRange': '$500K-$1MM', 'capacity_band': 'A-High Giving Capacity', 'donor_quadrant': 'Loyal Supporters', 'overall_decile': 4.0}]}\n"
     ]
    }
   ],
   "source": [
    "print(\"count:\", col.count())                       # should be > 0\n",
    "peek = col.get(limit=5, include=[\"metadatas\"])     # check actual keys/values\n",
    "print(peek)"
   ]
  },
  {
   "cell_type": "code",
   "execution_count": 5,
   "id": "ecbf83a9",
   "metadata": {},
   "outputs": [
    {
     "name": "stdout",
     "output_type": "stream",
     "text": [
      "{'ids': [['2671', '37501', '56258']], 'embeddings': None, 'documents': [['Mr. John W. Wright — Lafayette, LA, US. Segment: Prime Prospects | A-High Giving Capacity. Tier: Tier 5 - Low Priority. Board membership: . Donor quadrant: Prime Prospects. Capacity band: A-High Giving Capacity. Propensity rating: Excellent. Giving capacity rating: 16.', 'Mr. Larry E. Sides — Lafayette, LA, US. Segment: Prime Prospects | A-High Giving Capacity. Tier: Tier 1 - Principal. Board membership: . Donor quadrant: Prime Prospects. Capacity band: A-High Giving Capacity. Propensity rating: Excellent. Giving capacity rating: 18.', 'Mr. Gus Rantz, IV — Lafayette, LA, US. Segment: Prime Prospects | A-High Giving Capacity. Tier: Tier 1 - Principal. Board membership: . Donor quadrant: Prime Prospects. Capacity band: A-High Giving Capacity. Propensity rating: Excellent. Giving capacity rating: 19.']], 'uris': None, 'included': ['documents', 'metadatas', 'distances'], 'data': None, 'metadatas': [[{'segment_decile': 1.0, 'zip5': '70508', 'propensityToGiveScore1': 1.0, 'normalized_income_score': 60.0, 'givingCapacityRating': 16.0, 'assetRange': '$1MM-$5MM', 'netWorthRating': 6.0, 'county_desc': 'Lafayette Parish, LA', 'city': 'Lafayette', 'assetRating': 6.0, 'capacity_band': 'A-High Giving Capacity', 'prospect_tier': 'Tier 5 - Low Priority', 'propensity_score': 100.0, 'influenceRating': 2.0, 'state': 'LA', 'normalized_networth_score': 50.0, 'primary_prospect_manager_list': 'Trevor Starcher', 'normalized_asset_score': 50.0, 'incomeRange': '$100K-$250K', 'state_desc': 'Louisiana', 'wealth_score': 52.0, 'prospect_potential_score': 72.0, 'county': 'LA055', 'overall_decile': 6.0, 'town': 'Lafayette, LA   70508-6065', 'givingCapacity_score': 80.0, 'influence_score': 50.0, 'netWorthRange': '$1MM-$5MM', 'nation_desc': 'United States', 'lifetime_giving_label': 'Donor', 'segment': 'Prime Prospects | A-High Giving Capacity', 'lifetime_giving': 172240.11, 'primary_id': '2671', 'zip': '70508-6065', 'givingCapacityRange': '$200K-$300K', 'WEPS': 72.0, 'inclinationAffiliation': 'Older with no Political Support', 'person_name': 'Mr. John W. Wright', 'donor_quadrant': 'Prime Prospects', 'boardMembership': '', 'nation': 'US', 'incomeRating': 3.0}, {'boardMembership': '', 'incomeRange': '$50K-$100K', 'state': 'LA', 'givingCapacityRating': 18.0, 'zip5': '70506', 'city': 'Lafayette', 'givingCapacityRange': '$500K-$1MM', 'overall_decile': 10.0, 'assetRating': 8.0, 'netWorthRange': '$10MM-$25MM', 'givingCapacity_score': 90.0, 'inclinationAffiliation': 'Significant Political Support', 'donor_quadrant': 'Prime Prospects', 'county_desc': 'Lafayette Parish, LA', 'segment': 'Prime Prospects | A-High Giving Capacity', 'influenceRating': 1.0, 'lifetime_giving_label': 'Donor', 'person_name': 'Mr. Larry E. Sides', 'primary_id': '37501', 'normalized_asset_score': 67.0, 'lifetime_giving': 245390.06, 'propensity_score': 100.0, 'normalized_income_score': 40.0, 'county': 'LA055', 'wealth_score': 62.0, 'assetRange': '$10MM-$25MM', 'state_desc': 'Louisiana', 'WEPS': 79.0, 'nation': 'US', 'town': 'Lafayette, LA   70506-3420', 'segment_decile': 9.0, 'netWorthRating': 8.0, 'zip': '70506-3420', 'prospect_tier': 'Tier 1 - Principal', 'normalized_networth_score': 67.0, 'primary_prospect_manager_list': 'Amanda Leblanc', 'propensityToGiveScore1': 1.0, 'prospect_potential_score': 79.0, 'capacity_band': 'A-High Giving Capacity', 'incomeRating': 2.0, 'nation_desc': 'United States', 'influence_score': 100.0}, {'propensityToGiveScore1': 1.0, 'segment': 'Prime Prospects | A-High Giving Capacity', 'county': 'LA055', 'primary_prospect_manager_list': 'Trey Frazier', 'normalized_asset_score': 58.0, 'town': 'Lafayette, LA   70508-8077', 'state_desc': 'Louisiana', 'person_name': 'Mr. Gus Rantz, IV', 'givingCapacity_score': 95.0, 'incomeRange': '$250K-$500K', 'WEPS': 80.0, 'overall_decile': 10.0, 'county_desc': 'Lafayette Parish, LA', 'zip5': '70508', 'netWorthRating': 7.0, 'primary_id': '56258', 'normalized_networth_score': 58.0, 'influence_score': 100.0, 'prospect_tier': 'Tier 1 - Principal', 'lifetime_giving': 862347.65, 'city': 'Lafayette', 'state': 'LA', 'nation_desc': 'United States', 'incomeRating': 4.0, 'propensity_score': 100.0, 'inclinationAffiliation': 'Significant Political Support', 'prospect_potential_score': 80.0, 'givingCapacityRating': 19.0, 'lifetime_giving_label': 'Donor', 'capacity_band': 'A-High Giving Capacity', 'givingCapacityRange': '$1MM-$5MM', 'normalized_income_score': 80.0, 'influenceRating': 1.0, 'wealth_score': 62.0, 'boardMembership': '', 'assetRating': 7.0, 'assetRange': '$5MM-$10MM', 'netWorthRange': '$5MM-$10MM', 'nation': 'US', 'zip': '70508-8077', 'segment_decile': 9.0, 'donor_quadrant': 'Prime Prospects'}]], 'distances': [[1.0403797626495361, 1.0639784336090088, 1.091151237487793]]}\n"
     ]
    }
   ],
   "source": [
    "results = col.query(\n",
    "    query_texts=[\"prospects with weps score greater than 80\"],\n",
    "    n_results=3,\n",
    "    include=[\"documents\", \"metadatas\", \"distances\"],\n",
    "    where={\n",
    "        \"city\": \"Lafayette\"\n",
    "    }\n",
    ")\n",
    "\n",
    "print(results)"
   ]
  },
  {
   "cell_type": "code",
   "execution_count": 6,
   "id": "2a493f2b",
   "metadata": {},
   "outputs": [
    {
     "name": "stdout",
     "output_type": "stream",
     "text": [
      "{'ids': [['560', '40672']], 'embeddings': None, 'documents': [['Mr. Richard G. Zepernick, Jr. — Lafayette, LA, US. Segment: Prime Prospects | A-High Giving Capacity. Tier: Tier 1 - Principal. Board membership: . Donor quadrant: Prime Prospects. Capacity band: A-High Giving Capacity. Propensity rating: Excellent. Giving capacity rating: 19.', 'Mr. Sherman A. Scott — Lafayette, LA, US. Segment: Prime Prospects | A-High Giving Capacity. Tier: Tier 1 - Principal. Board membership: . Donor quadrant: Prime Prospects. Capacity band: A-High Giving Capacity. Propensity rating: Excellent. Giving capacity rating: 19.']], 'uris': None, 'included': ['documents', 'metadatas', 'distances'], 'data': None, 'metadatas': [[{'overall_decile': 10.0, 'incomeRating': 4.0, 'zip5': '70508', 'nation_desc': 'United States', 'lifetime_giving_label': 'Donor', 'nation': 'US', 'incomeRange': '$250K-$500K', 'normalized_asset_score': 75.0, 'givingCapacityRange': '$1MM-$5MM', 'segment_decile': 10.0, 'donor_quadrant': 'Prime Prospects', 'assetRating': 9.0, 'state_desc': 'Louisiana', 'city': 'Lafayette', 'segment': 'Prime Prospects | A-High Giving Capacity', 'netWorthRating': 9.0, 'capacity_band': 'A-High Giving Capacity', 'lifetime_giving': 289315.0, 'netWorthRange': '$25MM-$50MM', 'givingCapacityRating': 19.0, 'primary_id': '560', 'prospect_tier': 'Tier 1 - Principal', 'WEPS': 87.0, 'propensityToGiveScore1': 1.0, 'propensity_score': 100.0, 'town': 'Lafayette, LA   70508-6773', 'normalized_income_score': 80.0, 'county': 'LA055', 'person_name': 'Mr. Richard G. Zepernick, Jr.', 'county_desc': 'Lafayette Parish, LA', 'prospect_potential_score': 87.0, 'state': 'LA', 'boardMembership': '', 'assetRange': '$25MM-$50MM', 'givingCapacity_score': 95.0, 'zip': '70508-6773', 'normalized_networth_score': 75.0, 'primary_prospect_manager_list': 'Trevor Starcher', 'influenceRating': 0.0, 'inclinationAffiliation': 'Older with Significant Political Support', 'wealth_score': 76.0}, {'incomeRating': 4.0, 'influenceRating': 1.0, 'county': 'LA055', 'influence_score': 100.0, 'netWorthRating': 9.0, 'donor_quadrant': 'Prime Prospects', 'segment': 'Prime Prospects | A-High Giving Capacity', 'state_desc': 'Louisiana', 'prospect_potential_score': 87.0, 'city': 'Lafayette', 'normalized_networth_score': 75.0, 'prospect_tier': 'Tier 1 - Principal', 'county_desc': 'Lafayette Parish, LA', 'state': 'LA', 'netWorthRange': '$25MM-$50MM', 'zip5': '70503', 'primary_id': '40672', 'WEPS': 87.0, 'lifetime_giving': 357050.0, 'inclinationAffiliation': 'Significant Political Support', 'boardMembership': '', 'capacity_band': 'A-High Giving Capacity', 'nation_desc': 'United States', 'nation': 'US', 'segment_decile': 10.0, 'propensity_score': 100.0, 'givingCapacity_score': 95.0, 'assetRating': 9.0, 'givingCapacityRange': '$1MM-$5MM', 'normalized_asset_score': 75.0, 'person_name': 'Mr. Sherman A. Scott', 'lifetime_giving_label': 'Donor', 'normalized_income_score': 80.0, 'propensityToGiveScore1': 1.0, 'overall_decile': 10.0, 'assetRange': '$25MM-$50MM', 'givingCapacityRating': 19.0, 'zip': '70503-3666', 'primary_prospect_manager_list': 'Rebecca Doucet', 'incomeRange': '$250K-$500K', 'town': 'Lafayette, LA   70503-3666', 'wealth_score': 76.0}]], 'distances': [[1.2229100465774536, 1.242737054824829]]}\n"
     ]
    }
   ],
   "source": [
    "results2 = col.query(\n",
    "    query_texts=[\"Top 3 Lafayette prospects with WEPS between 85 and 90\"],\n",
    "    n_results=5,\n",
    "    where={\n",
    "        \"$and\": [\n",
    "            {\"city\": \"Lafayette\"},\n",
    "            {\"WEPS\": {\"$gte\": 85.0}},\n",
    "            {\"WEPS\": {\"$lte\": 90.0}},\n",
    "        ]\n",
    "    },\n",
    "    include=[\"documents\", \"metadatas\", \"distances\"]\n",
    ")\n",
    "\n",
    "print(results2)"
   ]
  },
  {
   "cell_type": "code",
   "execution_count": 8,
   "id": "18edd719",
   "metadata": {},
   "outputs": [
    {
     "name": "stdout",
     "output_type": "stream",
     "text": [
      "{'ids': [['37501', '43583', '27929', '2671', '45058', '20612', '215', '31749', '33187', '15109']], 'embeddings': None, 'documents': [['Mr. Larry E. Sides — Lafayette, LA, US. Segment: Prime Prospects | A-High Giving Capacity. Tier: Tier 1 - Principal. Board membership: . Donor quadrant: Prime Prospects. Capacity band: A-High Giving Capacity. Propensity rating: Excellent. Giving capacity rating: 18.', 'Mr. John W. Sarver — Rayne, LA, US. Segment: Prime Prospects | A-High Giving Capacity. Tier: Tier 4 - General. Board membership: . Donor quadrant: Prime Prospects. Capacity band: A-High Giving Capacity. Propensity rating: Excellent. Giving capacity rating: 17.', 'Mr. Maurice J. Stouse, III — Panama City Beach, FL, US. Segment: Prime Prospects | A-High Giving Capacity. Tier: Tier 4 - General. Board membership: . Donor quadrant: Prime Prospects. Capacity band: A-High Giving Capacity. Propensity rating: Excellent. Giving capacity rating: 17.', 'Mr. John W. Wright — Lafayette, LA, US. Segment: Prime Prospects | A-High Giving Capacity. Tier: Tier 5 - Low Priority. Board membership: . Donor quadrant: Prime Prospects. Capacity band: A-High Giving Capacity. Propensity rating: Excellent. Giving capacity rating: 16.', 'Mr. Ali A. Saberioon — Houston, TX, US. Segment: Prime Prospects | A-High Giving Capacity. Tier: Tier 1 - Principal. Board membership: . Donor quadrant: Prime Prospects. Capacity band: A-High Giving Capacity. Propensity rating: Excellent. Giving capacity rating: 20.', 'Mr. David E. Thompson — , , . Segment: Prime Prospects | A-High Giving Capacity. Tier: Tier 4 - General. Board membership: . Donor quadrant: Prime Prospects. Capacity band: A-High Giving Capacity. Propensity rating: Excellent. Giving capacity rating: 18.', 'Mr. James O. Ziler — Lafayette, LA, US. Segment: Prime Prospects | A-High Giving Capacity. Tier: Tier 5 - Low Priority. Board membership: . Donor quadrant: Prime Prospects. Capacity band: A-High Giving Capacity. Propensity rating: Excellent. Giving capacity rating: 17.', 'Mrs. Michelle H. Spangler — Denison, TX, US. Segment: Prime Prospects | A-High Giving Capacity. Tier: Tier 2 - Major. Board membership: . Donor quadrant: Prime Prospects. Capacity band: A-High Giving Capacity. Propensity rating: Excellent. Giving capacity rating: 16.', 'Mr. John E. Soileau — Eunice, LA, US. Segment: Prime Prospects | A-High Giving Capacity. Tier: Tier 1 - Principal. Board membership: . Donor quadrant: Prime Prospects. Capacity band: A-High Giving Capacity. Propensity rating: Excellent. Giving capacity rating: 18.', 'B.Gen. Robert W. VanHoy, II — Shreveport, LA, US. Segment: Prime Prospects | A-High Giving Capacity. Tier: Tier 3 - Mid-Level. Board membership: . Donor quadrant: Prime Prospects. Capacity band: A-High Giving Capacity. Propensity rating: Excellent. Giving capacity rating: 16.']], 'uris': None, 'included': ['documents', 'metadatas', 'distances'], 'data': None, 'metadatas': [[{'netWorthRange': '$10MM-$25MM', 'givingCapacity_score': 90.0, 'county_desc': 'Lafayette Parish, LA', 'normalized_asset_score': 67.0, 'segment_decile': 9.0, 'prospect_tier': 'Tier 1 - Principal', 'donor_quadrant': 'Prime Prospects', 'assetRange': '$10MM-$25MM', 'incomeRating': 2.0, 'capacity_band': 'A-High Giving Capacity', 'WEPS': 79.0, 'propensityToGiveScore1': 1.0, 'inclinationAffiliation': 'Significant Political Support', 'town': 'Lafayette, LA   70506-3420', 'state_desc': 'Louisiana', 'influence_score': 100.0, 'overall_decile': 10.0, 'incomeRange': '$50K-$100K', 'primary_id': '37501', 'nation_desc': 'United States', 'wealth_score': 62.0, 'normalized_networth_score': 67.0, 'assetRating': 8.0, 'city': 'Lafayette', 'zip5': '70506', 'lifetime_giving': 245390.06, 'normalized_income_score': 40.0, 'givingCapacityRange': '$500K-$1MM', 'propensity_score': 100.0, 'prospect_potential_score': 79.0, 'nation': 'US', 'county': 'LA055', 'state': 'LA', 'primary_prospect_manager_list': 'Amanda Leblanc', 'influenceRating': 1.0, 'givingCapacityRating': 18.0, 'person_name': 'Mr. Larry E. Sides', 'boardMembership': '', 'zip': '70506-3420', 'netWorthRating': 8.0, 'lifetime_giving_label': 'Donor', 'segment': 'Prime Prospects | A-High Giving Capacity'}, {'prospect_potential_score': 73.0, 'person_name': 'Mr. John W. Sarver', 'capacity_band': 'A-High Giving Capacity', 'zip': '70578-4907', 'normalized_asset_score': 50.0, 'WEPS': 73.0, 'county_desc': 'Acadia Parish, LA', 'incomeRange': '$100K-$250K', 'propensity_score': 100.0, 'lifetime_giving': 179435.84, 'assetRating': 6.0, 'influenceRating': 0.0, 'zip5': '70578', 'propensityToGiveScore1': 1.0, 'segment_decile': 3.0, 'state': 'LA', 'prospect_tier': 'Tier 4 - General', 'givingCapacityRating': 17.0, 'overall_decile': 7.0, 'state_desc': 'Louisiana', 'city': 'Rayne', 'netWorthRating': 6.0, 'inclinationAffiliation': 'Older with no Political Support', 'netWorthRange': '$1MM-$5MM', 'givingCapacity_score': 85.0, 'donor_quadrant': 'Prime Prospects', 'assetRange': '$1MM-$5MM', 'primary_id': '43583', 'normalized_networth_score': 50.0, 'primary_prospect_manager_list': 'Camille Broussard Breaux', 'incomeRating': 3.0, 'boardMembership': '', 'segment': 'Prime Prospects | A-High Giving Capacity', 'normalized_income_score': 60.0, 'givingCapacityRange': '$300K-$500K', 'wealth_score': 52.0, 'nation_desc': 'United States', 'lifetime_giving_label': 'Donor', 'county': 'LA001', 'nation': 'US', 'town': 'Rayne, LA   70578-4907'}, {'primary_prospect_manager_list': 'Camille Broussard Breaux', 'influenceRating': 1.0, 'prospect_potential_score': 73.0, 'person_name': 'Mr. Maurice J. Stouse, III', 'lifetime_giving': 128117.5, 'prospect_tier': 'Tier 4 - General', 'wealth_score': 52.0, 'zip5': '32413', 'boardMembership': '', 'donor_quadrant': 'Prime Prospects', 'capacity_band': 'A-High Giving Capacity', 'netWorthRating': 6.0, 'normalized_networth_score': 50.0, 'county': 'FL005', 'overall_decile': 7.0, 'givingCapacityRating': 17.0, 'incomeRange': '$100K-$250K', 'state_desc': 'Florida', 'givingCapacity_score': 85.0, 'segment_decile': 3.0, 'normalized_income_score': 60.0, 'town': 'Panama City Beach, FL   32413-2287', 'nation': 'US', 'WEPS': 73.0, 'propensity_score': 100.0, 'state': 'FL', 'primary_id': '27929', 'assetRating': 6.0, 'assetRange': '$1MM-$5MM', 'netWorthRange': '$1MM-$5MM', 'normalized_asset_score': 50.0, 'influence_score': 100.0, 'propensityToGiveScore1': 1.0, 'city': 'Panama City Beach', 'lifetime_giving_label': 'Donor', 'inclinationAffiliation': 'Significant Political Support', 'givingCapacityRange': '$300K-$500K', 'incomeRating': 3.0, 'county_desc': 'Bay, FL', 'zip': '32413-2287', 'nation_desc': 'United States', 'segment': 'Prime Prospects | A-High Giving Capacity'}, {'overall_decile': 6.0, 'netWorthRange': '$1MM-$5MM', 'normalized_income_score': 60.0, 'state_desc': 'Louisiana', 'normalized_networth_score': 50.0, 'county_desc': 'Lafayette Parish, LA', 'normalized_asset_score': 50.0, 'influenceRating': 2.0, 'assetRating': 6.0, 'segment_decile': 1.0, 'zip': '70508-6065', 'givingCapacityRange': '$200K-$300K', 'city': 'Lafayette', 'givingCapacityRating': 16.0, 'capacity_band': 'A-High Giving Capacity', 'town': 'Lafayette, LA   70508-6065', 'zip5': '70508', 'incomeRating': 3.0, 'propensity_score': 100.0, 'inclinationAffiliation': 'Older with no Political Support', 'primary_id': '2671', 'primary_prospect_manager_list': 'Trevor Starcher', 'WEPS': 72.0, 'lifetime_giving': 172240.11, 'prospect_tier': 'Tier 5 - Low Priority', 'netWorthRating': 6.0, 'incomeRange': '$100K-$250K', 'boardMembership': '', 'donor_quadrant': 'Prime Prospects', 'segment': 'Prime Prospects | A-High Giving Capacity', 'propensityToGiveScore1': 1.0, 'assetRange': '$1MM-$5MM', 'wealth_score': 52.0, 'givingCapacity_score': 80.0, 'nation': 'US', 'influence_score': 50.0, 'prospect_potential_score': 72.0, 'county': 'LA055', 'nation_desc': 'United States', 'person_name': 'Mr. John W. Wright', 'state': 'LA', 'lifetime_giving_label': 'Donor'}, {'givingCapacityRating': 20.0, 'normalized_income_score': 80.0, 'prospect_potential_score': 85.0, 'zip5': '77219', 'givingCapacity_score': 100.0, 'person_name': 'Mr. Ali A. Saberioon', 'inclinationAffiliation': 'Significant Political Support', 'netWorthRating': 8.0, 'incomeRange': '$250K-$500K', 'normalized_networth_score': 67.0, 'givingCapacityRange': '$5MM+', 'capacity_band': 'A-High Giving Capacity', 'county_desc': 'Harris, TX', 'lifetime_giving': 0.0, 'boardMembership': '', 'propensity_score': 100.0, 'assetRating': 8.0, 'segment': 'Prime Prospects | A-High Giving Capacity', 'city': 'Houston', 'influenceRating': 0.0, 'prospect_tier': 'Tier 1 - Principal', 'lifetime_giving_label': 'Non-donor', 'county': 'TX201', 'normalized_asset_score': 67.0, 'wealth_score': 70.0, 'zip': '77219-0975', 'primary_prospect_manager_list': 'Katherine Burlette', 'donor_quadrant': 'Prime Prospects', 'state': 'TX', 'overall_decile': 10.0, 'primary_id': '45058', 'WEPS': 85.0, 'netWorthRange': '$10MM-$25MM', 'assetRange': '$10MM-$25MM', 'segment_decile': 10.0, 'nation_desc': 'United States', 'nation': 'US', 'state_desc': 'Texas', 'incomeRating': 4.0, 'propensityToGiveScore1': 1.0, 'town': 'Houston, TX   77219-0975'}, {'netWorthRange': '$1MM-$5MM', 'incomeRange': '$100K-$250K', 'netWorthRating': 6.0, 'assetRating': 6.0, 'assetRange': '$1MM-$5MM', 'city': '', 'segment': 'Prime Prospects | A-High Giving Capacity', 'incomeRating': 3.0, 'primary_id': '20612', 'propensity_score': 100.0, 'county': '', 'lifetime_giving': 435192.36, 'lifetime_giving_label': 'Donor', 'influenceRating': 0.0, 'givingCapacityRating': 18.0, 'nation': '', 'donor_quadrant': 'Prime Prospects', 'primary_prospect_manager_list': 'CRM Admin', 'state': '', 'inclinationAffiliation': 'Older with Moderate Political Support', 'prospect_potential_score': 74.0, 'givingCapacityRange': '$500K-$1MM', 'givingCapacity_score': 90.0, 'WEPS': 74.0, 'normalized_asset_score': 50.0, 'overall_decile': 8.0, 'wealth_score': 52.0, 'state_desc': '', 'town': '   ', 'boardMembership': '', 'capacity_band': 'A-High Giving Capacity', 'normalized_networth_score': 50.0, 'segment_decile': 4.0, 'prospect_tier': 'Tier 4 - General', 'person_name': 'Mr. David E. Thompson', 'zip5': '', 'nation_desc': '', 'normalized_income_score': 60.0, 'propensityToGiveScore1': 1.0, 'zip': '', 'county_desc': ''}, {'town': 'Lafayette, LA   70503-5230', 'zip': '70503-5230', 'prospect_potential_score': 73.0, 'givingCapacityRange': '$300K-$500K', 'segment_decile': 2.0, 'normalized_income_score': 60.0, 'nation_desc': 'United States', 'influence_score': 100.0, 'assetRange': '$1MM-$5MM', 'county_desc': 'Lafayette Parish, LA', 'prospect_tier': 'Tier 5 - Low Priority', 'propensityToGiveScore1': 1.0, 'donor_quadrant': 'Prime Prospects', 'boardMembership': '', 'givingCapacity_score': 85.0, 'WEPS': 73.0, 'netWorthRange': '$1MM-$5MM', 'inclinationAffiliation': 'Older with Moderate Political Support', 'lifetime_giving_label': 'Donor', 'wealth_score': 52.0, 'person_name': 'Mr. James O. Ziler', 'segment': 'Prime Prospects | A-High Giving Capacity', 'primary_prospect_manager_list': 'Christina Lake', 'givingCapacityRating': 17.0, 'county': 'LA055', 'city': 'Lafayette', 'state': 'LA', 'primary_id': '215', 'normalized_networth_score': 50.0, 'zip5': '70503', 'nation': 'US', 'state_desc': 'Louisiana', 'lifetime_giving': 159510.0, 'normalized_asset_score': 50.0, 'overall_decile': 7.0, 'incomeRating': 3.0, 'incomeRange': '$100K-$250K', 'influenceRating': 1.0, 'propensity_score': 100.0, 'assetRating': 6.0, 'capacity_band': 'A-High Giving Capacity', 'netWorthRating': 6.0}, {'segment': 'Prime Prospects | A-High Giving Capacity', 'WEPS': 77.0, 'influence_score': 50.0, 'inclinationAffiliation': 'Older with no Political Support', 'primary_prospect_manager_list': 'Phillip Russo', 'givingCapacity_score': 80.0, 'netWorthRating': 7.0, 'zip5': '75020', 'influenceRating': 2.0, 'wealth_score': 62.0, 'town': 'Denison, TX   75020-4722', 'county_desc': 'Grayson, TX', 'lifetime_giving_label': 'Non-donor', 'normalized_asset_score': 58.0, 'propensityToGiveScore1': 1.0, 'prospect_potential_score': 77.0, 'normalized_income_score': 80.0, 'donor_quadrant': 'Prime Prospects', 'givingCapacityRange': '$200K-$300K', 'lifetime_giving': 0.0, 'incomeRange': '$250K-$500K', 'prospect_tier': 'Tier 2 - Major', 'capacity_band': 'A-High Giving Capacity', 'assetRating': 7.0, 'county': 'TX181', 'state': 'TX', 'incomeRating': 4.0, 'givingCapacityRating': 16.0, 'propensity_score': 100.0, 'nation': 'US', 'segment_decile': 7.0, 'nation_desc': 'United States', 'city': 'Denison', 'normalized_networth_score': 58.0, 'zip': '75020-4722', 'primary_id': '31749', 'boardMembership': '', 'person_name': 'Mrs. Michelle H. Spangler', 'overall_decile': 9.0, 'netWorthRange': '$5MM-$10MM', 'assetRange': '$5MM-$10MM', 'state_desc': 'Texas'}, {'influence_score': 100.0, 'town': 'Eunice, LA   70535-6539', 'propensity_score': 100.0, 'lifetime_giving': 252000.0, 'zip': '70535-6539', 'normalized_networth_score': 67.0, 'prospect_potential_score': 83.0, 'donor_quadrant': 'Prime Prospects', 'county': 'LA097', 'county_desc': 'St. Landry Parish, LA', 'normalized_asset_score': 67.0, 'netWorthRange': '$10MM-$25MM', 'propensityToGiveScore1': 1.0, 'inclinationAffiliation': 'Significant Political Support', 'givingCapacityRating': 18.0, 'normalized_income_score': 80.0, 'segment': 'Prime Prospects | A-High Giving Capacity', 'lifetime_giving_label': 'Lost Donor', 'state': 'LA', 'boardMembership': '', 'primary_id': '33187', 'capacity_band': 'A-High Giving Capacity', 'netWorthRating': 8.0, 'prospect_tier': 'Tier 1 - Principal', 'nation': 'US', 'WEPS': 83.0, 'overall_decile': 10.0, 'givingCapacity_score': 90.0, 'person_name': 'Mr. John E. Soileau', 'incomeRange': '$250K-$500K', 'assetRating': 8.0, 'segment_decile': 10.0, 'state_desc': 'Louisiana', 'incomeRating': 4.0, 'city': 'Eunice', 'influenceRating': 1.0, 'primary_prospect_manager_list': 'David Schexnayder', 'nation_desc': 'United States', 'zip5': '70535', 'assetRange': '$10MM-$25MM', 'givingCapacityRange': '$500K-$1MM', 'wealth_score': 70.0}, {'normalized_networth_score': 50.0, 'influence_score': 100.0, 'inclinationAffiliation': 'Older with no Political Support', 'nation': 'US', 'person_name': 'B.Gen. Robert W. VanHoy, II', 'segment_decile': 5.0, 'wealth_score': 56.0, 'incomeRange': '$250K-$500K', 'incomeRating': 4.0, 'primary_id': '15109', 'primary_prospect_manager_list': 'Phillip Russo', 'netWorthRating': 6.0, 'prospect_tier': 'Tier 3 - Mid-Level', 'city': 'Shreveport', 'segment': 'Prime Prospects | A-High Giving Capacity', 'givingCapacity_score': 80.0, 'normalized_income_score': 80.0, 'capacity_band': 'A-High Giving Capacity', 'lifetime_giving': 145131.29, 'propensityToGiveScore1': 1.0, 'county': 'LA017', 'overall_decile': 8.0, 'WEPS': 74.0, 'lifetime_giving_label': 'Donor', 'boardMembership': '', 'propensity_score': 100.0, 'zip': '71105-3024', 'influenceRating': 1.0, 'town': 'Shreveport, LA   71105-3024', 'prospect_potential_score': 74.0, 'netWorthRange': '$1MM-$5MM', 'state': 'LA', 'givingCapacityRating': 16.0, 'state_desc': 'Louisiana', 'givingCapacityRange': '$200K-$300K', 'zip5': '71105', 'county_desc': 'Caddo Parish, LA', 'assetRating': 6.0, 'assetRange': '$1MM-$5MM', 'normalized_asset_score': 50.0, 'nation_desc': 'United States', 'donor_quadrant': 'Prime Prospects'}]], 'distances': [[1.1098507642745972, 1.1232534646987915, 1.1289422512054443, 1.129560112953186, 1.1336771249771118, 1.1373505592346191, 1.1376603841781616, 1.1474924087524414, 1.1477596759796143, 1.1477675437927246]]}\n"
     ]
    }
   ],
   "source": [
    "\n",
    "\n",
    "results2 = col.query(\n",
    "    query_texts=[\"Top prospects with WEPS greater than 80. Give me their names and their primary manager\"],\n",
    "    include=[\"documents\", \"metadatas\", \"distances\"]\n",
    ")\n",
    "\n",
    "print(results2)"
   ]
  }
 ],
 "metadata": {
  "kernelspec": {
   "display_name": "Python 3",
   "language": "python",
   "name": "python3"
  },
  "language_info": {
   "codemirror_mode": {
    "name": "ipython",
    "version": 3
   },
   "file_extension": ".py",
   "mimetype": "text/x-python",
   "name": "python",
   "nbconvert_exporter": "python",
   "pygments_lexer": "ipython3",
   "version": "3.13.7"
  }
 },
 "nbformat": 4,
 "nbformat_minor": 5
}
